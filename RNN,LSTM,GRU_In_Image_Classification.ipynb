{
  "nbformat": 4,
  "nbformat_minor": 0,
  "metadata": {
    "colab": {
      "name": "RNN,LSTM,GRU In Image Classification.ipynb",
      "provenance": [],
      "authorship_tag": "ABX9TyOMBnZe6gjXB5jdwmKUg/dn",
      "include_colab_link": true
    },
    "kernelspec": {
      "name": "python3",
      "display_name": "Python 3"
    }
  },
  "cells": [
    {
      "cell_type": "markdown",
      "metadata": {
        "id": "view-in-github",
        "colab_type": "text"
      },
      "source": [
        "<a href=\"https://colab.research.google.com/github/soulaimane2/RNN_LSTM_GRU_Images/blob/master/RNN%2CLSTM%2CGRU_In_Image_Classification.ipynb\" target=\"_parent\"><img src=\"https://colab.research.google.com/assets/colab-badge.svg\" alt=\"Open In Colab\"/></a>"
      ]
    },
    {
      "cell_type": "code",
      "metadata": {
        "id": "Mo0LM2ugi4Wt",
        "colab_type": "code",
        "colab": {}
      },
      "source": [
        "import numpy as np\n",
        "import tensorflow as tf\n",
        "from tensorflow.keras import Sequential\n",
        "from tensorflow.keras.datasets import fashion_mnist"
      ],
      "execution_count": 1,
      "outputs": []
    },
    {
      "cell_type": "code",
      "metadata": {
        "id": "oMtYgbCWjbzl",
        "colab_type": "code",
        "colab": {
          "base_uri": "https://localhost:8080/",
          "height": 170
        },
        "outputId": "8b4a0888-97b8-4b29-8ce6-169889a56e89"
      },
      "source": [
        "(x_train,y_train),(x_test,y_test) = fashion_mnist.load_data()\n",
        "x_train,x_test = x_train / 255.0 , x_test / 255.0\n",
        "x_train.shape,x_test.shape,y_train.shape,y_test.shape"
      ],
      "execution_count": 2,
      "outputs": [
        {
          "output_type": "stream",
          "text": [
            "Downloading data from https://storage.googleapis.com/tensorflow/tf-keras-datasets/train-labels-idx1-ubyte.gz\n",
            "32768/29515 [=================================] - 0s 0us/step\n",
            "Downloading data from https://storage.googleapis.com/tensorflow/tf-keras-datasets/train-images-idx3-ubyte.gz\n",
            "26427392/26421880 [==============================] - 0s 0us/step\n",
            "Downloading data from https://storage.googleapis.com/tensorflow/tf-keras-datasets/t10k-labels-idx1-ubyte.gz\n",
            "8192/5148 [===============================================] - 0s 0us/step\n",
            "Downloading data from https://storage.googleapis.com/tensorflow/tf-keras-datasets/t10k-images-idx3-ubyte.gz\n",
            "4423680/4422102 [==============================] - 0s 0us/step\n"
          ],
          "name": "stdout"
        },
        {
          "output_type": "execute_result",
          "data": {
            "text/plain": [
              "((60000, 28, 28), (10000, 28, 28), (60000,), (10000,))"
            ]
          },
          "metadata": {
            "tags": []
          },
          "execution_count": 2
        }
      ]
    },
    {
      "cell_type": "code",
      "metadata": {
        "id": "fBA6-9FUj2wj",
        "colab_type": "code",
        "colab": {}
      },
      "source": [
        "model = Sequential([\n",
        "                    tf.keras.layers.Input(shape=x_train[0].shape),\n",
        "                    tf.keras.layers.SimpleRNN(5),\n",
        "                    tf.keras.layers.Dense(10,activation=\"sigmoid\")\n",
        "])"
      ],
      "execution_count": 6,
      "outputs": []
    },
    {
      "cell_type": "code",
      "metadata": {
        "id": "Vp4NL_1JkYEc",
        "colab_type": "code",
        "colab": {
          "base_uri": "https://localhost:8080/",
          "height": 357
        },
        "outputId": "e5d18763-2720-4b98-d53c-dbe6897e22cb"
      },
      "source": [
        "model.compile(optimizer='adam',loss='sparse_categorical_crossentropy',metrics=['accuracy'])\n",
        "r_ = model.fit(x_train,y_train,batch_size=50,validation_data=(x_train[50000:],y_train[50000:]),epochs=10,verbose=2)"
      ],
      "execution_count": 7,
      "outputs": [
        {
          "output_type": "stream",
          "text": [
            "Epoch 1/10\n",
            "1200/1200 - 6s - loss: 1.8678 - accuracy: 0.2202 - val_loss: 1.7639 - val_accuracy: 0.2290\n",
            "Epoch 2/10\n",
            "1200/1200 - 6s - loss: 1.6980 - accuracy: 0.2150 - val_loss: 1.6435 - val_accuracy: 0.2982\n",
            "Epoch 3/10\n",
            "1200/1200 - 5s - loss: 1.5535 - accuracy: 0.3232 - val_loss: 1.4892 - val_accuracy: 0.3568\n",
            "Epoch 4/10\n",
            "1200/1200 - 5s - loss: 1.4529 - accuracy: 0.3615 - val_loss: 1.4298 - val_accuracy: 0.3663\n",
            "Epoch 5/10\n",
            "1200/1200 - 5s - loss: 1.3996 - accuracy: 0.3754 - val_loss: 1.3830 - val_accuracy: 0.3726\n",
            "Epoch 6/10\n",
            "1200/1200 - 6s - loss: 1.3711 - accuracy: 0.3812 - val_loss: 1.3446 - val_accuracy: 0.3705\n",
            "Epoch 7/10\n",
            "1200/1200 - 6s - loss: 1.3281 - accuracy: 0.3685 - val_loss: 1.3149 - val_accuracy: 0.3562\n",
            "Epoch 8/10\n",
            "1200/1200 - 6s - loss: 1.2984 - accuracy: 0.3636 - val_loss: 1.2856 - val_accuracy: 0.3608\n",
            "Epoch 9/10\n",
            "1200/1200 - 6s - loss: 1.2817 - accuracy: 0.3657 - val_loss: 1.2751 - val_accuracy: 0.3681\n",
            "Epoch 10/10\n",
            "1200/1200 - 6s - loss: 1.2795 - accuracy: 0.3691 - val_loss: 1.2636 - val_accuracy: 0.3726\n"
          ],
          "name": "stdout"
        }
      ]
    },
    {
      "cell_type": "code",
      "metadata": {
        "id": "RsiozTbplDnW",
        "colab_type": "code",
        "colab": {
          "base_uri": "https://localhost:8080/",
          "height": 282
        },
        "outputId": "36f35ed2-6f32-4dde-f69d-d5f1200c9214"
      },
      "source": [
        "import matplotlib.pyplot as plt\n",
        "plt.plot(r_.history['loss'],label='loss')\n",
        "plt.plot(r_.history['val_loss'],label=\"validation loss\")"
      ],
      "execution_count": 9,
      "outputs": [
        {
          "output_type": "execute_result",
          "data": {
            "text/plain": [
              "[<matplotlib.lines.Line2D at 0x7f9580582908>]"
            ]
          },
          "metadata": {
            "tags": []
          },
          "execution_count": 9
        },
        {
          "output_type": "display_data",
          "data": {
            "image/png": "[encoded data removed]",
            "text/plain": [
              "<Figure size 432x288 with 1 Axes>"
            ]
          },
          "metadata": {
            "tags": [],
            "needs_background": "light"
          }
        }
      ]
    },
    {
      "cell_type": "code",
      "metadata": {
        "id": "U-Dn6VFnlqVW",
        "colab_type": "code",
        "colab": {
          "base_uri": "https://localhost:8080/",
          "height": 282
        },
        "outputId": "b215c752-a86e-4ad7-ce6d-6a13f4ef64f8"
      },
      "source": [
        "plt.plot(r_.history['accuracy'],label='acc')\n",
        "plt.plot(r_.history['val_accuracy'],label=\"validation acc\")"
      ],
      "execution_count": 10,
      "outputs": [
        {
          "output_type": "execute_result",
          "data": {
            "text/plain": [
              "[<matplotlib.lines.Line2D at 0x7f957f99f3c8>]"
            ]
          },
          "metadata": {
            "tags": []
          },
          "execution_count": 10
        },
        {
          "output_type": "display_data",
          "data": {
            "image/png": "[encoded data removed]",
            "text/plain": [
              "<Figure size 432x288 with 1 Axes>"
            ]
          },
          "metadata": {
            "tags": [],
            "needs_background": "light"
          }
        }
      ]
    },
    {
      "cell_type": "code",
      "metadata": {
        "id": "mUz4vqlGl4RO",
        "colab_type": "code",
        "colab": {}
      },
      "source": [
        "model = Sequential([\n",
        "                    tf.keras.layers.Input(shape=x_train[0].shape),\n",
        "                    tf.keras.layers.LSTM(5),\n",
        "                    tf.keras.layers.Dense(10,activation=\"sigmoid\")\n",
        "])"
      ],
      "execution_count": 11,
      "outputs": []
    },
    {
      "cell_type": "code",
      "metadata": {
        "id": "KBehxH6RmAGH",
        "colab_type": "code",
        "colab": {
          "base_uri": "https://localhost:8080/",
          "height": 357
        },
        "outputId": "d143048e-3253-45bc-de25-2149d362240c"
      },
      "source": [
        "model.compile(optimizer='adam',loss='sparse_categorical_crossentropy',metrics=['accuracy'])\n",
        "r_ = model.fit(x_train,y_train,batch_size=50,validation_data=(x_train[50000:],y_train[50000:]),epochs=10,verbose=2)"
      ],
      "execution_count": 12,
      "outputs": [
        {
          "output_type": "stream",
          "text": [
            "Epoch 1/10\n",
            "1200/1200 - 10s - loss: 1.8440 - accuracy: 0.3038 - val_loss: 1.5991 - val_accuracy: 0.3492\n",
            "Epoch 2/10\n",
            "1200/1200 - 10s - loss: 1.4381 - accuracy: 0.3813 - val_loss: 1.2910 - val_accuracy: 0.4880\n",
            "Epoch 3/10\n",
            "1200/1200 - 10s - loss: 1.1748 - accuracy: 0.5183 - val_loss: 1.0821 - val_accuracy: 0.5554\n",
            "Epoch 4/10\n",
            "1200/1200 - 10s - loss: 1.0307 - accuracy: 0.6164 - val_loss: 0.9780 - val_accuracy: 0.6604\n",
            "Epoch 5/10\n",
            "1200/1200 - 10s - loss: 0.9431 - accuracy: 0.6858 - val_loss: 0.8896 - val_accuracy: 0.7041\n",
            "Epoch 6/10\n",
            "1200/1200 - 10s - loss: 0.8606 - accuracy: 0.7183 - val_loss: 0.8138 - val_accuracy: 0.7337\n",
            "Epoch 7/10\n",
            "1200/1200 - 10s - loss: 0.7985 - accuracy: 0.7340 - val_loss: 0.7665 - val_accuracy: 0.7360\n",
            "Epoch 8/10\n",
            "1200/1200 - 10s - loss: 0.7553 - accuracy: 0.7400 - val_loss: 0.7277 - val_accuracy: 0.7501\n",
            "Epoch 9/10\n",
            "1200/1200 - 10s - loss: 0.7312 - accuracy: 0.7443 - val_loss: 0.7025 - val_accuracy: 0.7532\n",
            "Epoch 10/10\n",
            "1200/1200 - 10s - loss: 0.7027 - accuracy: 0.7538 - val_loss: 0.6818 - val_accuracy: 0.7610\n"
          ],
          "name": "stdout"
        }
      ]
    },
    {
      "cell_type": "code",
      "metadata": {
        "id": "JMmAoemwmAzw",
        "colab_type": "code",
        "colab": {
          "base_uri": "https://localhost:8080/",
          "height": 282
        },
        "outputId": "38768d76-f4e7-4d1c-b681-3b6bb20c4744"
      },
      "source": [
        "plt.plot(r_.history['loss'],label='loss')\n",
        "plt.plot(r_.history['val_loss'],label=\"validation loss\")"
      ],
      "execution_count": 13,
      "outputs": [
        {
          "output_type": "execute_result",
          "data": {
            "text/plain": [
              "[<matplotlib.lines.Line2D at 0x7f957f99f7b8>]"
            ]
          },
          "metadata": {
            "tags": []
          },
          "execution_count": 13
        },
        {
          "output_type": "display_data",
          "data": {
            "image/png": "[encoded data removed]",
            "text/plain": [
              "<Figure size 432x288 with 1 Axes>"
            ]
          },
          "metadata": {
            "tags": [],
            "needs_background": "light"
          }
        }
      ]
    },
    {
      "cell_type": "code",
      "metadata": {
        "id": "WCcG6C62meFF",
        "colab_type": "code",
        "colab": {
          "base_uri": "https://localhost:8080/",
          "height": 282
        },
        "outputId": "b8b27110-e1fc-4bf9-cf87-03c07646f8cc"
      },
      "source": [
        "plt.plot(r_.history['accuracy'],label='accuracy')\n",
        "plt.plot(r_.history['val_accuracy'],label=\"validation accuracy\")"
      ],
      "execution_count": 14,
      "outputs": [
        {
          "output_type": "execute_result",
          "data": {
            "text/plain": [
              "[<matplotlib.lines.Line2D at 0x7f957f99f390>]"
            ]
          },
          "metadata": {
            "tags": []
          },
          "execution_count": 14
        },
        {
          "output_type": "display_data",
          "data": {
            "image/png": "[encoded data removed]",
            "text/plain": [
              "<Figure size 432x288 with 1 Axes>"
            ]
          },
          "metadata": {
            "tags": [],
            "needs_background": "light"
          }
        }
      ]
    },
    {
      "cell_type": "code",
      "metadata": {
        "id": "rzEe-GVDmiZC",
        "colab_type": "code",
        "colab": {}
      },
      "source": [
        "model = Sequential([\n",
        "                    tf.keras.layers.Input(shape=x_train[0].shape),\n",
        "                    tf.keras.layers.GRU(5),\n",
        "                    tf.keras.layers.Dense(10,activation=\"sigmoid\")\n",
        "])"
      ],
      "execution_count": 15,
      "outputs": []
    },
    {
      "cell_type": "code",
      "metadata": {
        "id": "xL-V8F19mq-I",
        "colab_type": "code",
        "colab": {
          "base_uri": "https://localhost:8080/",
          "height": 357
        },
        "outputId": "beacbb39-3b62-4f56-b19e-04776530b7a8"
      },
      "source": [
        "model.compile(optimizer='adam',loss='sparse_categorical_crossentropy',metrics=['accuracy'])\n",
        "r_ = model.fit(x_train,y_train,batch_size=50,validation_data=(x_train[50000:],y_train[50000:]),epochs=10,verbose=2)"
      ],
      "execution_count": 16,
      "outputs": [
        {
          "output_type": "stream",
          "text": [
            "Epoch 1/10\n",
            "1200/1200 - 9s - loss: 1.8531 - accuracy: 0.2915 - val_loss: 1.5678 - val_accuracy: 0.2754\n",
            "Epoch 2/10\n",
            "1200/1200 - 8s - loss: 1.4079 - accuracy: 0.3014 - val_loss: 1.2999 - val_accuracy: 0.3073\n",
            "Epoch 3/10\n",
            "1200/1200 - 8s - loss: 1.2397 - accuracy: 0.3395 - val_loss: 1.1647 - val_accuracy: 0.4026\n",
            "Epoch 4/10\n",
            "1200/1200 - 9s - loss: 1.0889 - accuracy: 0.5438 - val_loss: 1.0080 - val_accuracy: 0.6463\n",
            "Epoch 5/10\n",
            "1200/1200 - 8s - loss: 0.9572 - accuracy: 0.6477 - val_loss: 0.9231 - val_accuracy: 0.6456\n",
            "Epoch 6/10\n",
            "1200/1200 - 9s - loss: 0.8891 - accuracy: 0.6649 - val_loss: 0.8593 - val_accuracy: 0.6729\n",
            "Epoch 7/10\n",
            "1200/1200 - 9s - loss: 0.8417 - accuracy: 0.6867 - val_loss: 0.8198 - val_accuracy: 0.6926\n",
            "Epoch 8/10\n",
            "1200/1200 - 9s - loss: 0.8037 - accuracy: 0.7069 - val_loss: 0.7899 - val_accuracy: 0.7127\n",
            "Epoch 9/10\n",
            "1200/1200 - 9s - loss: 0.7720 - accuracy: 0.7237 - val_loss: 0.7529 - val_accuracy: 0.7331\n",
            "Epoch 10/10\n",
            "1200/1200 - 9s - loss: 0.7443 - accuracy: 0.7380 - val_loss: 0.7267 - val_accuracy: 0.7410\n"
          ],
          "name": "stdout"
        }
      ]
    },
    {
      "cell_type": "code",
      "metadata": {
        "id": "f32ew2DAmrsa",
        "colab_type": "code",
        "colab": {
          "base_uri": "https://localhost:8080/",
          "height": 282
        },
        "outputId": "2ddfefe2-0f44-4ba4-f6eb-7442e978bc4f"
      },
      "source": [
        "plt.plot(r_.history['loss'],label='loss')\n",
        "plt.plot(r_.history['val_loss'],label=\"validation loss\")"
      ],
      "execution_count": 17,
      "outputs": [
        {
          "output_type": "execute_result",
          "data": {
            "text/plain": [
              "[<matplotlib.lines.Line2D at 0x7f957fabd470>]"
            ]
          },
          "metadata": {
            "tags": []
          },
          "execution_count": 17
        },
        {
          "output_type": "display_data",
          "data": {
            "image/png": "[encoded data removed]",
            "text/plain": [
              "<Figure size 432x288 with 1 Axes>"
            ]
          },
          "metadata": {
            "tags": [],
            "needs_background": "light"
          }
        }
      ]
    },
    {
      "cell_type": "code",
      "metadata": {
        "id": "sp_JWH1QnUYG",
        "colab_type": "code",
        "colab": {
          "base_uri": "https://localhost:8080/",
          "height": 282
        },
        "outputId": "5bafa81a-49f0-4c30-896f-566fecf9522c"
      },
      "source": [
        "plt.plot(r_.history['accuracy'],label='accuracy')\n",
        "plt.plot(r_.history['val_accuracy'],label=\"validation accuracy\")"
      ],
      "execution_count": 20,
      "outputs": [
        {
          "output_type": "execute_result",
          "data": {
            "text/plain": [
              "[<matplotlib.lines.Line2D at 0x7f957bb6b400>]"
            ]
          },
          "metadata": {
            "tags": []
          },
          "execution_count": 20
        },
        {
          "output_type": "display_data",
          "data": {
            "image/png": "[encoded data removed]",
            "text/plain": [
              "<Figure size 432x288 with 1 Axes>"
            ]
          },
          "metadata": {
            "tags": [],
            "needs_background": "light"
          }
        }
      ]
    },
    {
      "cell_type": "code",
      "metadata": {
        "id": "JBEITHdZnX02",
        "colab_type": "code",
        "colab": {}
      },
      "source": [
        ""
      ],
      "execution_count": 20,
      "outputs": []
    }
  ]
}